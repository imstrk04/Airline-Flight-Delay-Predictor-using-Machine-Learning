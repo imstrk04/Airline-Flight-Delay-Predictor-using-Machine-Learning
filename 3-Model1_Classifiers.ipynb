{
 "cells": [
  {
   "cell_type": "code",
   "execution_count": 1,
   "id": "a2c33d5b-4b86-4c2b-adcb-ab42a2a74090",
   "metadata": {},
   "outputs": [],
   "source": [
    "import pandas as pd\n",
    "from sklearn.model_selection import train_test_split\n",
    "from sklearn.linear_model import LogisticRegression\n",
    "from sklearn.tree import DecisionTreeClassifier\n",
    "from sklearn.ensemble import ExtraTreesClassifier\n",
    "from sklearn.ensemble import RandomForestClassifier\n",
    "from sklearn.metrics import accuracy_score\n",
    "import matplotlib.pyplot as plt\n",
    "import xgboost as xgb\n",
    "from imblearn.over_sampling import SMOTE"
   ]
  },
  {
   "cell_type": "code",
   "execution_count": 2,
   "id": "2c53b9b5-0207-44d8-bb95-0e46d99e72e3",
   "metadata": {},
   "outputs": [],
   "source": [
    "data = pd.read_csv(\"data_classification_before_smote.csv\")"
   ]
  },
  {
   "cell_type": "code",
   "execution_count": 3,
   "id": "be0a9580-d284-4bd9-8542-5f5947455cd5",
   "metadata": {},
   "outputs": [],
   "source": [
    "data = data.drop(['ArrTime', 'Unnamed: 0'], axis = 1)"
   ]
  },
  {
   "cell_type": "code",
   "execution_count": 4,
   "id": "09becc99-b122-4511-9027-a53591de469f",
   "metadata": {},
   "outputs": [],
   "source": [
    "X = data.drop(['ArrDel15'], axis = 1)\n",
    "Y = data['ArrDel15']"
   ]
  },
  {
   "cell_type": "code",
   "execution_count": 5,
   "id": "8389dacc-c7e7-4a7f-8708-3b3228d089d3",
   "metadata": {},
   "outputs": [],
   "source": [
    "X_train, X_test, Y_train, Y_test = train_test_split(X, Y, test_size=0.3)"
   ]
  },
  {
   "cell_type": "code",
   "execution_count": 6,
   "id": "d65e451c-e83e-4e94-b2f1-52b134fefe55",
   "metadata": {},
   "outputs": [
    {
     "name": "stdout",
     "output_type": "stream",
     "text": [
      "Number of samples in X: 1832252\n",
      "Number of samples in Y: 1832252\n"
     ]
    }
   ],
   "source": [
    "print(\"Number of samples in X:\", X.shape[0])\n",
    "print(\"Number of samples in Y:\", Y.shape[0])"
   ]
  },
  {
   "cell_type": "markdown",
   "id": "a689270a-62ce-4695-bacd-6242f6f17590",
   "metadata": {},
   "source": [
    "**Classifier before Class Balance**"
   ]
  },
  {
   "cell_type": "markdown",
   "id": "26ffd5a4-4a83-46cf-bb36-fdfa80163806",
   "metadata": {},
   "source": [
    "**Linear Regression**"
   ]
  },
  {
   "cell_type": "code",
   "execution_count": 7,
   "id": "143611ad-bc22-4682-8f9f-40b85a279ea2",
   "metadata": {},
   "outputs": [
    {
     "name": "stderr",
     "output_type": "stream",
     "text": [
      "/opt/anaconda3/lib/python3.11/site-packages/sklearn/linear_model/_logistic.py:469: ConvergenceWarning: lbfgs failed to converge (status=1):\n",
      "STOP: TOTAL NO. of ITERATIONS REACHED LIMIT.\n",
      "\n",
      "Increase the number of iterations (max_iter) or scale the data as shown in:\n",
      "    https://scikit-learn.org/stable/modules/preprocessing.html\n",
      "Please also refer to the documentation for alternative solver options:\n",
      "    https://scikit-learn.org/stable/modules/linear_model.html#logistic-regression\n",
      "  n_iter_i = _check_optimize_result(\n"
     ]
    }
   ],
   "source": [
    "lr_model = LogisticRegression(max_iter = 3000)\n",
    "lr_model.fit(X_train, Y_train.values.ravel())\n",
    "Y_pred_lr = lr_model.predict(X_test)"
   ]
  },
  {
   "cell_type": "code",
   "execution_count": 8,
   "id": "b7a6e934-1d31-4cea-8cef-276b91d136ad",
   "metadata": {},
   "outputs": [
    {
     "name": "stdout",
     "output_type": "stream",
     "text": [
      "Accuracy for Logistic Regression: 0.9159268369002831\n",
      "\n",
      "Predicted Probability: [[1.70833056e-06 9.99998292e-01]\n",
      " [8.89104158e-02 9.11089584e-01]\n",
      " [8.65372567e-05 9.99913463e-01]\n",
      " ...\n",
      " [9.49931559e-01 5.00684412e-02]\n",
      " [8.84968937e-01 1.15031063e-01]\n",
      " [9.56305813e-01 4.36941874e-02]]\n"
     ]
    }
   ],
   "source": [
    "accuracy_lr = accuracy_score(Y_test, Y_pred_lr)\n",
    "print(\"Accuracy for Logistic Regression:\",accuracy_lr)\n",
    "print()\n",
    "predict_prob = lr_model.predict_proba(X_test)\n",
    "print(\"Predicted Probability:\",predict_prob)"
   ]
  },
  {
   "cell_type": "markdown",
   "id": "a4ae4702-bead-44fc-a872-1958acee48c8",
   "metadata": {},
   "source": [
    "**Decision Trees**"
   ]
  },
  {
   "cell_type": "code",
   "execution_count": 9,
   "id": "841eb397-3874-4d2c-84e4-b65e300a009e",
   "metadata": {},
   "outputs": [],
   "source": [
    "dt_model = DecisionTreeClassifier(max_depth = 8)\n",
    "dt_model.fit(X_train, Y_train.values.ravel())\n",
    "Y_pred_dt = dt_model.predict(X_test)"
   ]
  },
  {
   "cell_type": "code",
   "execution_count": 10,
   "id": "38a4786f-efec-488a-8220-c2a6df8fc9a5",
   "metadata": {},
   "outputs": [
    {
     "name": "stdout",
     "output_type": "stream",
     "text": [
      "Decision Tree Accuracy: 0.9162743143233468\n"
     ]
    }
   ],
   "source": [
    "accuracy_dt = accuracy_score(Y_test, Y_pred_dt)\n",
    "print(f\"Decision Tree Accuracy: {accuracy_dt}\")"
   ]
  },
  {
   "cell_type": "markdown",
   "id": "ceb64312-9414-4a97-bc23-19cdf1411c3a",
   "metadata": {},
   "source": [
    "**Extra Trees Classifier**"
   ]
  },
  {
   "cell_type": "code",
   "execution_count": 11,
   "id": "773c883b-5f59-4d00-a1da-bf2d2626ab76",
   "metadata": {},
   "outputs": [],
   "source": [
    "et_model = ExtraTreesClassifier()\n",
    "et_model.fit(X_train, Y_train.values.ravel())\n",
    "Y_pred_et = et_model.predict(X_test)"
   ]
  },
  {
   "cell_type": "code",
   "execution_count": 12,
   "id": "9c0e154f-513d-48ed-89e3-0c2da3a66563",
   "metadata": {},
   "outputs": [
    {
     "name": "stdout",
     "output_type": "stream",
     "text": [
      "Extra Trees Classifier Accuracy: 0.9112458975833037\n"
     ]
    }
   ],
   "source": [
    "accuracy_et = accuracy_score(Y_test, Y_pred_et)\n",
    "print(f\"Extra Trees Classifier Accuracy: {accuracy_et}\")"
   ]
  },
  {
   "cell_type": "markdown",
   "id": "d53058bd-6ffd-4688-8279-005267fa9310",
   "metadata": {},
   "source": [
    "**XG Boost Classifier**"
   ]
  },
  {
   "cell_type": "code",
   "execution_count": 13,
   "id": "579a516e-bc72-4955-a03d-ab15813f8bbe",
   "metadata": {},
   "outputs": [],
   "source": [
    "xgb_model = xgb.XGBClassifier(use_label_encoder=False, eval_metric='logloss')\n",
    "xgb_model.fit(X_train, Y_train.values.ravel())\n",
    "Y_pred_xgb = xgb_model.predict(X_test)"
   ]
  },
  {
   "cell_type": "code",
   "execution_count": 14,
   "id": "daba13f5-9488-408b-818d-8ed1f91dc066",
   "metadata": {},
   "outputs": [
    {
     "name": "stdout",
     "output_type": "stream",
     "text": [
      "XGBoost Accuracy: 0.9194416347084464\n"
     ]
    }
   ],
   "source": [
    "accuracy_xgb = accuracy_score(Y_test, Y_pred_xgb)\n",
    "print(f\"XGBoost Accuracy: {accuracy_xgb}\")"
   ]
  },
  {
   "cell_type": "markdown",
   "id": "29b188d7-a9e5-40d9-90ea-a8298eee311c",
   "metadata": {},
   "source": [
    "**Random Forest**"
   ]
  },
  {
   "cell_type": "code",
   "execution_count": 15,
   "id": "5078f4fd-36f9-4b27-8597-eecc32616bf6",
   "metadata": {},
   "outputs": [],
   "source": [
    "rf_model = RandomForestClassifier()\n",
    "rf_model.fit(X_train, Y_train.values.ravel())\n",
    "Y_pred_rf = rf_model.predict(X_test)"
   ]
  },
  {
   "cell_type": "code",
   "execution_count": 16,
   "id": "20e08997-31b0-4aba-b106-4ab580f659fb",
   "metadata": {},
   "outputs": [
    {
     "name": "stdout",
     "output_type": "stream",
     "text": [
      "Random Forest Accuracy: 0.916769151281846\n"
     ]
    }
   ],
   "source": [
    "accuracy_rf = accuracy_score(Y_test, Y_pred_rf)\n",
    "print(f\"Random Forest Accuracy: {accuracy_rf}\")"
   ]
  },
  {
   "cell_type": "markdown",
   "id": "ac51ef62-2f36-44a5-83e9-cbf62207047e",
   "metadata": {},
   "source": [
    "**SMOTE FOR CLASS IMBALANCE**"
   ]
  },
  {
   "cell_type": "code",
   "execution_count": 17,
   "id": "e54f6409-96ae-423d-978e-6b8850f986e4",
   "metadata": {},
   "outputs": [
    {
     "data": {
      "text/plain": [
       "ArrDel15\n",
       "0.0    1448082\n",
       "1.0     384170\n",
       "Name: count, dtype: int64"
      ]
     },
     "execution_count": 17,
     "metadata": {},
     "output_type": "execute_result"
    }
   ],
   "source": [
    "counts = data['ArrDel15'].value_counts()\n",
    "counts"
   ]
  },
  {
   "cell_type": "code",
   "execution_count": 18,
   "id": "7f559f67-e46c-493d-8826-6f9303e33ab1",
   "metadata": {},
   "outputs": [
    {
     "data": {
      "image/png": "[encoded data removed]",
      "text/plain": [
       "<Figure size 800x600 with 1 Axes>"
      ]
     },
     "metadata": {},
     "output_type": "display_data"
    }
   ],
   "source": [
    "plt.figure(figsize=(8, 6))\n",
    "plt.pie(counts, labels=counts.index, autopct='%1.2f%%', colors=['red', 'blue'])\n",
    "plt.title('Class Distribution of Depdelay')\n",
    "plt.axis('equal')  # Equal aspect ratio ensures that pie is drawn as a circle.\n",
    "plt.show()"
   ]
  },
  {
   "cell_type": "code",
   "execution_count": 19,
   "id": "ce7054ed-f085-4bdb-8e1b-44da8386c55e",
   "metadata": {},
   "outputs": [],
   "source": [
    "smote = SMOTE(random_state=42)\n",
    "X_train, Y_train = smote.fit_resample(X_train, Y_train)"
   ]
  },
  {
   "cell_type": "code",
   "execution_count": 20,
   "id": "980c43cc-cbf8-46ad-bd63-0d32698ee5c1",
   "metadata": {},
   "outputs": [],
   "source": [
    "train_data_smote = pd.concat([X_train, Y_train], axis = 1)"
   ]
  },
  {
   "cell_type": "code",
   "execution_count": 21,
   "id": "3f923929-79c8-4526-920f-1cff806bc942",
   "metadata": {},
   "outputs": [
    {
     "data": {
      "text/plain": [
       "Index(['Year', 'Month', 'DayofMonth', 'OriginAirportID', 'DestAirportID',\n",
       "       'DepDelayMinutes', 'CRSArrTime', 'rounded_CRSDepTime', 'WindSpeedKmph',\n",
       "       'WindDirDegree', 'WeatherCode', 'precipMM', 'Visibilty', 'Pressure',\n",
       "       'Cloudcover', 'WindChillF', 'Humidity', 'ArrDel15'],\n",
       "      dtype='object')"
      ]
     },
     "execution_count": 21,
     "metadata": {},
     "output_type": "execute_result"
    }
   ],
   "source": [
    "train_data_smote.columns"
   ]
  },
  {
   "cell_type": "code",
   "execution_count": 22,
   "id": "bbdce9f4-6d8d-403f-b2f6-739c6d1b583f",
   "metadata": {},
   "outputs": [
    {
     "data": {
      "text/plain": [
       "ArrDel15\n",
       "1.0    1013626\n",
       "0.0    1013626\n",
       "Name: count, dtype: int64"
      ]
     },
     "execution_count": 22,
     "metadata": {},
     "output_type": "execute_result"
    }
   ],
   "source": [
    "new_counts = train_data_smote['ArrDel15'].value_counts()\n",
    "new_counts"
   ]
  },
  {
   "cell_type": "code",
   "execution_count": 23,
   "id": "054647ea-5814-4c5c-bb28-eba33eb17d22",
   "metadata": {},
   "outputs": [
    {
     "data": {
      "image/png": "[encoded data removed]",
      "text/plain": [
       "<Figure size 800x600 with 1 Axes>"
      ]
     },
     "metadata": {},
     "output_type": "display_data"
    }
   ],
   "source": [
    "plt.figure(figsize=(8, 6))\n",
    "plt.pie(new_counts, labels=counts.index, autopct='%1.2f%%', colors=['cyan', 'pink'])\n",
    "plt.title('Class Distribution of Depdelay')\n",
    "plt.axis('equal')  # Equal aspect ratio ensures that pie is drawn as a circle.\n",
    "plt.show()"
   ]
  },
  {
   "cell_type": "markdown",
   "id": "0cb0ceee-8090-4083-a42a-08c0574ffe7a",
   "metadata": {},
   "source": [
    "**Logistic Regression**"
   ]
  },
  {
   "cell_type": "code",
   "execution_count": 24,
   "id": "2e812329-eb15-42e4-903b-944049f95d25",
   "metadata": {},
   "outputs": [
    {
     "name": "stderr",
     "output_type": "stream",
     "text": [
      "/opt/anaconda3/lib/python3.11/site-packages/sklearn/linear_model/_logistic.py:469: ConvergenceWarning: lbfgs failed to converge (status=1):\n",
      "STOP: TOTAL NO. of ITERATIONS REACHED LIMIT.\n",
      "\n",
      "Increase the number of iterations (max_iter) or scale the data as shown in:\n",
      "    https://scikit-learn.org/stable/modules/preprocessing.html\n",
      "Please also refer to the documentation for alternative solver options:\n",
      "    https://scikit-learn.org/stable/modules/linear_model.html#logistic-regression\n",
      "  n_iter_i = _check_optimize_result(\n"
     ]
    }
   ],
   "source": [
    "lr_model = LogisticRegression(max_iter = 3000)\n",
    "lr_model.fit(X_train, Y_train.values.ravel())\n",
    "Y_pred_lr = lr_model.predict(X_test)"
   ]
  },
  {
   "cell_type": "code",
   "execution_count": 25,
   "id": "1a107b17-5e1c-467a-b565-984f831788e7",
   "metadata": {},
   "outputs": [
    {
     "name": "stdout",
     "output_type": "stream",
     "text": [
      "Accuracy for Logistic Regression: 0.895729484278011\n",
      "\n",
      "Predicted Probability: [[5.25942657e-08 9.99999947e-01]\n",
      " [1.39947259e-02 9.86005274e-01]\n",
      " [5.53332259e-06 9.99994467e-01]\n",
      " ...\n",
      " [8.71715573e-01 1.28284427e-01]\n",
      " [6.77435995e-01 3.22564005e-01]\n",
      " [8.81164852e-01 1.18835148e-01]]\n"
     ]
    }
   ],
   "source": [
    "accuracy_lr = accuracy_score(Y_test, Y_pred_lr)\n",
    "print(\"Accuracy for Logistic Regression:\",accuracy_lr)\n",
    "print()\n",
    "predict_prob = lr_model.predict_proba(X_test)\n",
    "print(\"Predicted Probability:\",predict_prob)"
   ]
  },
  {
   "cell_type": "markdown",
   "id": "722e4ffb-2bd5-4ac5-9abb-f200177a44b2",
   "metadata": {},
   "source": [
    "# Decision Trees"
   ]
  },
  {
   "cell_type": "code",
   "execution_count": 26,
   "id": "f49262c9-2f78-4052-b176-6d1c2e3e2cbe",
   "metadata": {},
   "outputs": [],
   "source": [
    "dt_model = DecisionTreeClassifier(max_depth = 8)\n",
    "dt_model.fit(X_train, Y_train.values.ravel())\n",
    "Y_pred_dt = dt_model.predict(X_test)"
   ]
  },
  {
   "cell_type": "code",
   "execution_count": 27,
   "id": "17f2ad6e-2c5d-439a-a382-5fd7611799fa",
   "metadata": {},
   "outputs": [
    {
     "name": "stdout",
     "output_type": "stream",
     "text": [
      "Decision Tree Accuracy: 0.9052187106586426\n"
     ]
    }
   ],
   "source": [
    "accuracy_dt = accuracy_score(Y_test, Y_pred_dt)\n",
    "print(f\"Decision Tree Accuracy: {accuracy_dt}\")"
   ]
  },
  {
   "cell_type": "markdown",
   "id": "a56f4cda-88f8-4032-baad-04a92089fffa",
   "metadata": {},
   "source": [
    "# Extra Trees Classifier"
   ]
  },
  {
   "cell_type": "code",
   "execution_count": 28,
   "id": "98d62b57-682b-4a38-a1c2-bd7a044e3146",
   "metadata": {},
   "outputs": [],
   "source": [
    "et_model = ExtraTreesClassifier()\n",
    "et_model.fit(X_train, Y_train.values.ravel())\n",
    "Y_pred_et = et_model.predict(X_test)"
   ]
  },
  {
   "cell_type": "code",
   "execution_count": 29,
   "id": "0dd5392c-fb40-4cb6-b60a-a24c624f938a",
   "metadata": {},
   "outputs": [
    {
     "name": "stdout",
     "output_type": "stream",
     "text": [
      "Extra Trees Classifier Accuracy: 0.905622584940947\n"
     ]
    }
   ],
   "source": [
    "accuracy_et = accuracy_score(Y_test, Y_pred_et)\n",
    "print(f\"Extra Trees Classifier Accuracy: {accuracy_et}\")"
   ]
  },
  {
   "cell_type": "markdown",
   "id": "8ecb8e7e-c336-49de-89e8-80bf9a988a72",
   "metadata": {},
   "source": [
    "# XGBoost"
   ]
  },
  {
   "cell_type": "code",
   "execution_count": 30,
   "id": "b3c9480f-163f-4da2-94c6-1c91281fdb2e",
   "metadata": {},
   "outputs": [],
   "source": [
    "xgb_model = xgb.XGBClassifier(use_label_encoder=False, eval_metric='logloss')\n",
    "xgb_model.fit(X_train, Y_train.values.ravel())\n",
    "Y_pred_xgb = xgb_model.predict(X_test)"
   ]
  },
  {
   "cell_type": "code",
   "execution_count": 31,
   "id": "cc27e15d-edbf-4349-940d-a4fb4a934103",
   "metadata": {},
   "outputs": [
    {
     "name": "stdout",
     "output_type": "stream",
     "text": [
      "XGBoost Accuracy: 0.9131488367692968\n"
     ]
    }
   ],
   "source": [
    "accuracy_xgb = accuracy_score(Y_test, Y_pred_xgb)\n",
    "print(f\"XGBoost Accuracy: {accuracy_xgb}\")"
   ]
  },
  {
   "cell_type": "markdown",
   "id": "63177236-074b-4239-831e-2a57247cbf68",
   "metadata": {},
   "source": [
    "# Random Forest"
   ]
  },
  {
   "cell_type": "code",
   "execution_count": 32,
   "id": "8c90edc8-556f-4d74-8c91-a2069b91b4b9",
   "metadata": {},
   "outputs": [
    {
     "data": {
      "text/plain": [
       "'\\nbootstrapping\\n    -(creating new datasets in random by replacement using the given datasets, perform decision tree on each) \\n    -ensures we are not using same data for each tree\\n                    + \\naggregating (take the majority of the output from each decision tree)\\n'"
      ]
     },
     "execution_count": 32,
     "metadata": {},
     "output_type": "execute_result"
    }
   ],
   "source": [
    "'''\n",
    "bootstrapping\n",
    "    -(creating new datasets in random by replacement using the given datasets, perform decision tree on each) \n",
    "    -ensures we are not using same data for each tree\n",
    "                    + \n",
    "aggregating (take the majority of the output from each decision tree)\n",
    "'''"
   ]
  },
  {
   "cell_type": "code",
   "execution_count": 33,
   "id": "ef888976-2e12-41ce-9839-872c8c8f85a1",
   "metadata": {},
   "outputs": [],
   "source": [
    "rf_model = RandomForestClassifier()\n",
    "rf_model.fit(X_train, Y_train.values.ravel())\n",
    "Y_pred_rf = rf_model.predict(X_test)"
   ]
  },
  {
   "cell_type": "code",
   "execution_count": 34,
   "id": "cc56d6cb-fafe-48c0-9326-dcbb5e7d2b5a",
   "metadata": {},
   "outputs": [
    {
     "name": "stdout",
     "output_type": "stream",
     "text": [
      "Random Forest Accuracy: 0.9083314534380253\n"
     ]
    }
   ],
   "source": [
    "accuracy_rf = accuracy_score(Y_test, Y_pred_rf)\n",
    "print(f\"Random Forest Accuracy: {accuracy_rf}\")"
   ]
  }
 ],
 "metadata": {
  "kernelspec": {
   "display_name": "Python 3 (ipykernel)",
   "language": "python",
   "name": "python3"
  },
  "language_info": {
   "codemirror_mode": {
    "name": "ipython",
    "version": 3
   },
   "file_extension": ".py",
   "mimetype": "text/x-python",
   "name": "python",
   "nbconvert_exporter": "python",
   "pygments_lexer": "ipython3",
   "version": "3.11.7"
  }
 },
 "nbformat": 4,
 "nbformat_minor": 5
}
